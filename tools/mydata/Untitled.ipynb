{
 "cells": [
  {
   "cell_type": "code",
   "execution_count": 1,
   "id": "696dbd68-52d0-4908-b77d-a743621d8fa0",
   "metadata": {},
   "outputs": [],
   "source": [
    "import numpy as np\n",
    "\n",
    "def convert_pcd_to_bin(pcd_path, bin_path, z_shift=0.0):\n",
    "    with open(pcd_path, 'r') as f:\n",
    "        lines = f.readlines()\n",
    "\n",
    "    # Find where data starts\n",
    "    start_idx = next(i for i, line in enumerate(lines) if line.strip().upper() == \"DATA ASCII\") + 1\n",
    "\n",
    "    points = []\n",
    "    for line in lines[start_idx:]:\n",
    "        parts = line.strip().split()\n",
    "        if len(parts) < 4:\n",
    "            continue\n",
    "        x, y, z, intensity = map(float, parts[:4])\n",
    "        z += z_shift\n",
    "        points.append([x, y, z, intensity / 255.0])  # intensity 정규화\n",
    "\n",
    "    points = np.array(points, dtype=np.float32)\n",
    "    points.tofile(bin_path)\n",
    "\n",
    "    print(f\"✅ Converted {pcd_path} → {bin_path}  ({len(points)} points)\")\n"
   ]
  },
  {
   "cell_type": "code",
   "execution_count": 2,
   "id": "bdad3a43-ce65-4568-ae9b-8e3ef2129fcd",
   "metadata": {},
   "outputs": [
    {
     "name": "stdout",
     "output_type": "stream",
     "text": [
      "✅ Converted sample.pcd → sample.bin  (21177 points)\n"
     ]
    }
   ],
   "source": [
    "convert_pcd_to_bin(\"sample.pcd\", \"sample.bin\")\n"
   ]
  }
 ],
 "metadata": {
  "kernelspec": {
   "display_name": "Python 3 (ipykernel)",
   "language": "python",
   "name": "python3"
  },
  "language_info": {
   "codemirror_mode": {
    "name": "ipython",
    "version": 3
   },
   "file_extension": ".py",
   "mimetype": "text/x-python",
   "name": "python",
   "nbconvert_exporter": "python",
   "pygments_lexer": "ipython3",
   "version": "3.12.7"
  }
 },
 "nbformat": 4,
 "nbformat_minor": 5
}
